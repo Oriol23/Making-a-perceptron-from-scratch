{
 "cells": [
  {
   "cell_type": "markdown",
   "metadata": {
    "collapsed": true,
    "slideshow": {
     "slide_type": "slide"
    }
   },
   "source": [
    "# Multi-Class Classification with Perceptron\n",
    "\n",
    "Lab Assignment from [AI for Beginners Curriculum](https://github.com/microsoft/ai-for-beginners)."
   ]
  },
  {
   "cell_type": "code",
   "execution_count": 3,
   "metadata": {
    "slideshow": {
     "slide_type": "skip"
    }
   },
   "outputs": [],
   "source": [
    "import matplotlib.pyplot as plt\n",
    "import numpy as np\n",
    "import pickle\n",
    "import os\n",
    "import random\n",
    "np.random.seed(1)\n"
   ]
  },
  {
   "cell_type": "markdown",
   "metadata": {},
   "source": [
    "You can use the following perceptron training code from the lecture:"
   ]
  },
  {
   "cell_type": "code",
   "execution_count": 4,
   "metadata": {
    "slideshow": {
     "slide_type": "skip"
    }
   },
   "outputs": [],
   "source": [
    "def train(positive_examples, negative_examples, num_iterations = 100, learning_rate=1):\n",
    "    num_dims = positive_examples.shape[1]\n",
    "    weights = np.zeros(num_dims) # initialize weights\n",
    "    \n",
    "#    pos_count = positive_examples.shape[0]\n",
    "#    neg_count = negative_examples.shape[0]\n",
    "    \n",
    "#    report_frequency = 10\n",
    "    \n",
    "    for i in range(num_iterations):\n",
    "        pos = random.choice(positive_examples)\n",
    "        neg = random.choice(negative_examples)\n",
    "        \n",
    "        z = np.dot(pos, weights)   \n",
    "        if z < 0:\n",
    "            weights = weights + learning_rate*pos.reshape(weights.shape)\n",
    "\n",
    "        z  = np.dot(neg, weights)\n",
    "        if z >= 0:\n",
    "            weights = weights - learning_rate*neg.reshape(weights.shape)\n",
    "            \n",
    "        #if i % report_frequency == 0:             \n",
    "#        if i == num_iterations-1:\n",
    "#            pos_out = np.dot(positive_examples, weights)\n",
    "#            neg_out = np.dot(negative_examples, weights)        \n",
    "#            pos_correct = (pos_out >= 0).sum() / float(pos_count)\n",
    "#            neg_correct = (neg_out < 0).sum() / float(neg_count)\n",
    "#            print(\"pos correct={}, neg correct={}\".format(pos_correct,neg_correct))\n",
    "\n",
    "    return weights"
   ]
  },
  {
   "cell_type": "code",
   "execution_count": 5,
   "metadata": {},
   "outputs": [],
   "source": [
    "def train_norm(positive_examples, negative_examples, num_iterations = 100, learning_rate=1):\n",
    "    #previously normalizes the examples by dividing by the norm of the array\n",
    "    \n",
    "    num_dims = positive_examples.shape[1]\n",
    "    weights = np.zeros(num_dims) # initialize weights\n",
    "    \n",
    "    pos_norms = np.array([np.linalg.norm(positive_examples,axis=1)])\n",
    "    pos_norms = pos_norms.transpose()\n",
    "    norm_positive_examples = np.divide(positive_examples,pos_norms)\n",
    "    neg_norms = np.array([np.linalg.norm(negative_examples,axis=1)])\n",
    "    neg_norms = neg_norms.transpose()\n",
    "    norm_negative_examples = np.divide(negative_examples,neg_norms)\n",
    "    \n",
    "    for i in range(num_iterations):\n",
    "        pos = random.choice(norm_positive_examples)\n",
    "        neg = random.choice(norm_negative_examples)\n",
    "\n",
    "        z = np.dot(pos, weights)   \n",
    "        if z < 0:\n",
    "            weights = weights + learning_rate*pos.reshape(weights.shape)\n",
    "\n",
    "        z  = np.dot(neg, weights)\n",
    "        if z >= 0:\n",
    "            weights = weights - learning_rate*neg.reshape(weights.shape)\n",
    "            \n",
    "    return weights"
   ]
  },
  {
   "cell_type": "code",
   "execution_count": 6,
   "metadata": {
    "slideshow": {
     "slide_type": "fragment"
    }
   },
   "outputs": [],
   "source": [
    "def accuracy(weights, test_x, test_labels):\n",
    "    res = np.dot(np.c_[test_x,np.ones(len(test_x))],weights)\n",
    "    return (res.reshape(test_labels.shape)*test_labels>=0).sum()/float(len(test_labels))\n",
    "\n",
    "#accuracy(weights, test_x, test_labels)"
   ]
  },
  {
   "cell_type": "markdown",
   "metadata": {
    "collapsed": true,
    "slideshow": {
     "slide_type": "slide"
    }
   },
   "source": [
    "### Reading the Dataset\n",
    "\n",
    "This code download the dataset from the repository on the internet. You can also manually copy the dataset from `/data` directory of AI Curriculum repo."
   ]
  },
  {
   "cell_type": "code",
   "execution_count": 7,
   "metadata": {
    "slideshow": {
     "slide_type": "slide"
    }
   },
   "outputs": [],
   "source": [
    "#File https://github.com/mnielsen/neural-networks-and-deep-learning/blob/master/data/mnist.pkl.gz was donwloaded manually"
   ]
  },
  {
   "cell_type": "code",
   "execution_count": 8,
   "metadata": {},
   "outputs": [],
   "source": [
    "import gzip\n",
    "import pandas as pd\n",
    "with gzip.open('mnist.pkl.gz', 'rb') as mnist_pickle:\n",
    "    #MNIST = pickle.load(mnist_pickle,encoding='latin1')\n",
    "    training_data, validation_data, test_data = pickle.load(mnist_pickle,encoding='latin1')\n",
    "#MNIST = pd.read_pickle('mnist.pkl.gz',compression='gzip')\n",
    "\n"
   ]
  },
  {
   "cell_type": "code",
   "execution_count": 9,
   "metadata": {},
   "outputs": [],
   "source": [
    "#We add a 1 at the end of every matrix to add a bias term to our model\n",
    "train_with_bias=np.concatenate((training_data[0],np.ones((50000,1))),axis=1)\n",
    "training_data_bias = (train_with_bias,training_data[1])\n",
    "test_with_bias=np.concatenate((test_data[0],np.ones((10000,1))),axis=1)\n",
    "test_data_bias = (test_with_bias,test_data[1])"
   ]
  },
  {
   "cell_type": "code",
   "execution_count": 10,
   "metadata": {},
   "outputs": [],
   "source": [
    "#..._data[0] contains an array of arrays of the images of the digits as a size 784 array\n",
    "#..._data[0][N] is the N+1th matrix\n",
    "#..._data[1] contains a list with the label of every digit the images represent\n",
    "#training data contains 50000 samples and validation and test data 10000 each. \n",
    "\n",
    "#the ..._data[0][N] are the features and the ..._data[1] are the labels\n",
    "\n",
    "#the training algorithm takes as input positive examples, negative examples and the number of iterations\n",
    "#the perceptron we are using is a multilinear model, using a hyperplane to separate 2 outcomes and using gradient descent to\n",
    "#update its weights.\n",
    "#for the training process of the weights it chooses a random positive example and a random negative example and uses them to \n",
    "#update the weights only if the dot product misclassifies the example.\n",
    "#to simplify the addition of a bias term in the model we add another feature that always equals 1. This results in the last \n",
    "#dimension of theh weight vector being the bias. \n",
    "#positive and negative examples are just a way to differentiate the 2 possible outcomes of the binary classifier and have no \n",
    "#relation to whether or not the model classified the example correctly. \n",
    "#to build the digit classifier we will build 10 binary classifiers, each one classifying a certain digit and not that digit. \n",
    "#in the case of multiple classifiers deciding it is a certain digit, the bigger dot product should be better because the\n",
    "#error grows as the dot product approaches 0 and decreases as the dot product increases. \n",
    "\n",
    "#build a one vs all first and a one vs one maybe later "
   ]
  },
  {
   "cell_type": "code",
   "execution_count": 12,
   "metadata": {},
   "outputs": [
    {
     "data": {
      "text/plain": [
       "(784,)"
      ]
     },
     "execution_count": 12,
     "metadata": {},
     "output_type": "execute_result"
    }
   ],
   "source": [
    "training_data[0][1].shape"
   ]
  },
  {
   "cell_type": "code",
   "execution_count": null,
   "metadata": {},
   "outputs": [],
   "source": []
  },
  {
   "cell_type": "code",
   "execution_count": 9,
   "metadata": {},
   "outputs": [],
   "source": [
    "def display_digit(array):\n",
    "    matrix = array.reshape(28,28)\n",
    "    fig, ax = plt.subplots(1,1,figsize=(5,5)) #12\n",
    "    im=ax.matshow(matrix,aspect='auto')\n",
    "    plt.show()"
   ]
  },
  {
   "cell_type": "code",
   "execution_count": 10,
   "metadata": {},
   "outputs": [
    {
     "data": {
      "image/png": "[encoded data removed]",
      "text/plain": [
       "<Figure size 360x360 with 1 Axes>"
      ]
     },
     "metadata": {
      "needs_background": "light"
     },
     "output_type": "display_data"
    },
    {
     "name": "stdout",
     "output_type": "stream",
     "text": [
      "The label is: 4\n"
     ]
    }
   ],
   "source": [
    "#Check the imported data\n",
    "arrayid = 127\n",
    "\n",
    "matrix = training_data[0][arrayid].reshape(28,28)\n",
    "fig, ax = plt.subplots(1,1,figsize=(5,5)) #12\n",
    "im=ax.matshow(matrix,aspect='auto')\n",
    "plt.show()\n",
    "print(\"The label is:\",training_data[1][arrayid])\n",
    "\n",
    "\n",
    "#Check the classifier\n",
    "#                     0 correct 1 incorrect\n",
    "#                               |\n",
    "#matrix = dataset_classifier(5)[0][245].reshape(28,28)\n",
    "#fig, ax = plt.subplots(1,1,figsize=(5,5)) #12\n",
    "#im=ax.matshow(matrix,aspect='auto')\n",
    "#plt.show()\n",
    "\n"
   ]
  },
  {
   "cell_type": "code",
   "execution_count": 11,
   "metadata": {
    "slideshow": {
     "slide_type": "slide"
    }
   },
   "outputs": [],
   "source": [
    "#Create the datasets for the one vs all classifier and one vs one classifier. The digit/s we want to differentiate is the input. \n",
    "def dataset_classifier(digits,training_data_):\n",
    "    #takes a digit as input and outputs the training data, classified based on the digit provided. If two digits are provided \n",
    "    #as a list it classifies the training data based on the 2. \n",
    "    \n",
    "    if isinstance(digits, int):\n",
    "    #one vs all classifier\n",
    "        positive_label = digits\n",
    "        #negative label is unnecessary\n",
    "        \n",
    "        positive_indices = [i for i, j in enumerate(training_data_[1]) \n",
    "                          if j == positive_label]\n",
    "        negative_indices = [i for i, j in enumerate(training_data_[1]) \n",
    "                          if j != positive_label]\n",
    "        \n",
    "        positive_dataset = training_data_[0][positive_indices]\n",
    "        negative_dataset = training_data_[0][negative_indices]\n",
    "        \n",
    "        return positive_dataset,negative_dataset\n",
    "    \n",
    "    elif (isinstance(digits, list) and len(digits)==2):\n",
    "    #one vs one classifier\n",
    "        positive_label = digits[0]\n",
    "        negative_label = digits[1]\n",
    "        \n",
    "        positive_indices = [i for i, j in enumerate(training_data_[1]) \n",
    "                          if j == positive_label]\n",
    "        negative_indices = [i for i, j in enumerate(training_data_[1]) \n",
    "                          if j == negative_label]\n",
    "        \n",
    "        positive_dataset = training_data_[0][positive_indices]\n",
    "        negative_dataset = training_data_[0][negative_indices]\n",
    "        \n",
    "        return positive_dataset,negative_dataset\n",
    "        \n",
    "    else:\n",
    "        print('Wrong digits input for the dataset classifier')\n",
    "        \n",
    "    \n"
   ]
  },
  {
   "cell_type": "code",
   "execution_count": 17,
   "metadata": {},
   "outputs": [],
   "source": [
    "def perceptron_training(training_data_):\n",
    "#creates 10 one vs all classifiers, trains them and stores the weights. The weights are stored as a list of arrays where the \n",
    "#digit corresponds with the index of the list.\n",
    "    weights = []\n",
    "    for digit in range(0,10):\n",
    "        positive_dataset,negative_dataset = dataset_classifier(digit,training_data_)\n",
    "        weights.append(train(positive_dataset, negative_dataset, num_iterations = 100, learning_rate=1))\n",
    "    return weights"
   ]
  },
  {
   "cell_type": "code",
   "execution_count": 18,
   "metadata": {},
   "outputs": [],
   "source": [
    "def model_accuracy(weights,test_data_):\n",
    "#takes a digit from the test data and uses the weights to determine the likelihood of each digit. \n",
    "#The largest dot product is the most likely\n",
    "#returns accuracy\n",
    "    true_digits = test_data_[1]\n",
    "    detected_digits = np.zeros(true_digits.shape[0])\n",
    "    for i,digit in enumerate(test_data_[0]):\n",
    "        dot_digit = []\n",
    "        #calculates the dot product for every digit and chooses the maximum as the correct digit\n",
    "        for n in range(0,10):\n",
    "            dot_digit.append(np.dot(weights[n],digit))\n",
    "        detected_digits[i] = dot_digit.index(max(dot_digit))\n",
    "    #Number of digits correcty predicted\n",
    "    corr_pred = true_digits[true_digits==detected_digits].shape[0]\n",
    "    #accuracy\n",
    "    acc = corr_pred/true_digits.shape[0]\n",
    "    return acc"
   ]
  },
  {
   "cell_type": "code",
   "execution_count": 19,
   "metadata": {},
   "outputs": [],
   "source": [
    "def model_accuracy_matrix(weights,test_data_):\n",
    "#takes a digit from the test data and uses the weights to determine the likelihood of each digit. \n",
    "#The largest dot product is the most likely\n",
    "#returns accuracy\n",
    "    true_digits = test_data_[1]\n",
    "    detected_digits = np.zeros(true_digits.shape[0])\n",
    "    weights_matrix = np.matrix(weights)\n",
    "    confusion_matrix = np.zeros((10,10))\n",
    "    #uses a matrix multiplication to obtain the dot product for every digit\n",
    "    for i,digit in enumerate(test_data_[0]):\n",
    "        detected_digits[i] = weights_matrix.dot(digit).argmax()\n",
    "    for tdigit,ddigit in zip(true_digits,detected_digits):\n",
    "        if ddigit == tdigit:\n",
    "            confusion_matrix[int(ddigit),int(ddigit)] += 1\n",
    "        else:\n",
    "            confusion_matrix[int(ddigit),int(tdigit)] += 1\n",
    "\n",
    "            \n",
    "    #Number of digits correcty predicted\n",
    "    corr_pred = true_digits[true_digits==detected_digits].shape[0]\n",
    "    #accuracy\n",
    "    acc = corr_pred/true_digits.shape[0]\n",
    "    return acc,confusion_matrix"
   ]
  },
  {
   "cell_type": "code",
   "execution_count": 20,
   "metadata": {},
   "outputs": [
    {
     "name": "stdout",
     "output_type": "stream",
     "text": [
      "It took 36.48776626586914 seconds.\n",
      "The average accuracy over 10 trials is \n",
      " 0.6711499999999999 for data with no bias term \n",
      " 0.7054500000000001 for data with a bias term\n"
     ]
    }
   ],
   "source": [
    "acc = []\n",
    "acc_bias = []\n",
    "conf = []\n",
    "conf_bias = []\n",
    "import time\n",
    "start = time.time()\n",
    "\n",
    "for n in range(10):\n",
    "    weights = perceptron_training(training_data)\n",
    "    acc.append(model_accuracy_matrix(weights,test_data)[0])\n",
    "    conf.append(model_accuracy_matrix(weights,test_data)[1])\n",
    "\n",
    "    weights = perceptron_training(training_data_bias)\n",
    "    acc_bias.append(model_accuracy_matrix(weights,test_data_bias)[0])\n",
    "    conf_bias.append(model_accuracy_matrix(weights,test_data_bias)[1])\n",
    "\n",
    "print('It took', time.time()-start, 'seconds.')\n",
    "print('The average accuracy over',n+1,'trials is \\n',sum(acc)/len(acc),'for data with no bias term \\n',\n",
    "      sum(acc_bias)/len(acc_bias),'for data with a bias term')"
   ]
  },
  {
   "cell_type": "code",
   "execution_count": 102,
   "metadata": {},
   "outputs": [
    {
     "data": {
      "image/png": "[encoded data removed]",
      "text/plain": [
       "<Figure size 360x360 with 1 Axes>"
      ]
     },
     "metadata": {
      "needs_background": "light"
     },
     "output_type": "display_data"
    },
    {
     "name": "stdout",
     "output_type": "stream",
     "text": [
      "The 10 most mislabeled pairs are:\n",
      "[7, 9] 2.053 %\n",
      "[9, 4] 1.561 %\n",
      "[5, 3] 1.483 %\n",
      "[8, 1] 1.471 %\n",
      "[9, 7] 1.149 %\n",
      "[5, 8] 1.086 %\n",
      "[8, 2] 1.026 %\n",
      "[2, 3] 1.025 %\n",
      "[8, 5] 0.92 %\n",
      "[2, 8] 0.883 %\n"
     ]
    }
   ],
   "source": [
    "sum_conf = sum(conf)\n",
    "fig, ax = plt.subplots(1,1,figsize=(5,5)) #12\n",
    "im=ax.matshow(sum_conf,aspect='auto')\n",
    "plt.title('Average confusion matrix')\n",
    "plt.xlabel('true label')\n",
    "plt.ylabel('detected label')\n",
    "plt.show()\n",
    "max_conf = [0]\n",
    "conf_pairs = [0]\n",
    "N_max = 10\n",
    "N = sum_conf.sum()/100\n",
    "for i in range(10):\n",
    "    for j in range(10):\n",
    "        if i != j:\n",
    "            if sum_conf[i,j]/N > max_conf[-1]:\n",
    "                max_conf.append(sum_conf[i,j]/N)\n",
    "                conf_pairs.append([i,j])\n",
    "            elif sum_conf[i,j]/N > max_conf[0]:\n",
    "                for n,m in enumerate(max_conf[1:]): \n",
    "                    if sum_conf[i,j]/N < m:\n",
    "                        max_conf.insert(n+1,sum_conf[i,j]/N)\n",
    "                        conf_pairs.insert(n+1,[i,j])\n",
    "                        break\n",
    "            if len(max_conf) > N_max:\n",
    "                max_conf.pop(0)\n",
    "                conf_pairs.pop(0)\n",
    "\n",
    "print('The',N_max,'most mislabeled pairs are:')\n",
    "for pair,perc in zip(list(reversed(conf_pairs)),list(reversed(max_conf))):\n",
    "    print(pair,perc,'%')"
   ]
  },
  {
   "cell_type": "code",
   "execution_count": 105,
   "metadata": {},
   "outputs": [
    {
     "data": {
      "text/plain": [
       "array([[ 5,  2,  5],\n",
       "       [11,  5, 11]])"
      ]
     },
     "execution_count": 105,
     "metadata": {},
     "output_type": "execute_result"
    }
   ],
   "source": [
    "#(1 2 3) (1 0 1)             (4+1  2+0 4+1 )\n",
    "#(4 5 6) (0 1 0) + (1 0 1) = (10+1 5+0 10+1)\n",
    "#        (1 0 1)\n",
    "#bias is added to every row\n",
    "\n",
    "TV = np.array([[1,2,3],[4,5,6]])\n",
    "AB = np.array([[1,0,1],[0,1,0],[1,0,1]])\n",
    "#BIAS = 4*np.ones((1,3)) #(1,n_dim)\n",
    "BIAS = np.array([1,0,1])[np.newaxis]\n",
    "OU = np.matmul(TV,AB) + BIAS\n",
    "OU"
   ]
  },
  {
   "cell_type": "code",
   "execution_count": 102,
   "metadata": {},
   "outputs": [
    {
     "data": {
      "text/plain": [
       "(2, 3)"
      ]
     },
     "execution_count": 102,
     "metadata": {},
     "output_type": "execute_result"
    }
   ],
   "source": [
    "TV.shape"
   ]
  },
  {
   "cell_type": "code",
   "execution_count": 108,
   "metadata": {},
   "outputs": [
    {
     "name": "stdout",
     "output_type": "stream",
     "text": [
      "(784,)\n",
      "(784,)\n",
      "(784,)\n",
      "(784,)\n"
     ]
    }
   ],
   "source": [
    "for t in training_data[0][0:4]:\n",
    "    print(t.shape)"
   ]
  },
  {
   "cell_type": "markdown",
   "metadata": {},
   "source": []
  }
 ],
 "metadata": {
  "celltoolbar": "Slideshow",
  "kernelspec": {
   "display_name": "Python 3",
   "language": "python",
   "name": "python3"
  },
  "language_info": {
   "codemirror_mode": {
    "name": "ipython",
    "version": 3
   },
   "file_extension": ".py",
   "mimetype": "text/x-python",
   "name": "python",
   "nbconvert_exporter": "python",
   "pygments_lexer": "ipython3",
   "version": "3.8.3"
  },
  "livereveal": {
   "start_slideshow_at": "selected"
  }
 },
 "nbformat": 4,
 "nbformat_minor": 2
}
